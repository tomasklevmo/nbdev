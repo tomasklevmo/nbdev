{
 "cells": [
  {
   "cell_type": "code",
   "execution_count": null,
   "metadata": {},
   "outputs": [],
   "source": [
    "#hide\n",
    "from tnbdev.core import *"
   ]
  },
  {
   "cell_type": "markdown",
   "metadata": {},
   "source": [
    "# Project name here\n",
    "\n",
    "> Summary description here."
   ]
  },
  {
   "cell_type": "markdown",
   "metadata": {},
   "source": [
    "This file will become your README and also the index of your documentation."
   ]
  },
  {
   "cell_type": "markdown",
   "metadata": {},
   "source": [
    "## Install"
   ]
  },
  {
   "cell_type": "markdown",
   "metadata": {},
   "source": [
    "`pip install your_project_name`"
   ]
  },
  {
   "cell_type": "markdown",
   "metadata": {},
   "source": [
    "## How to use"
   ]
  },
  {
   "cell_type": "markdown",
   "metadata": {},
   "source": [
    "Fill me in please! Don't forget code examples:"
   ]
  },
  {
   "cell_type": "code",
   "execution_count": null,
   "metadata": {},
   "outputs": [
    {
     "data": {
      "text/plain": [
       "2"
      ]
     },
     "execution_count": null,
     "metadata": {},
     "output_type": "execute_result"
    }
   ],
   "source": [
    "1+1"
   ]
  },
  {
   "cell_type": "code",
   "execution_count": null,
   "metadata": {},
   "outputs": [
    {
     "data": {
      "text/plain": [
       "[<matplotlib.lines.Line2D at 0x130389ac288>]"
      ]
     },
     "execution_count": null,
     "metadata": {},
     "output_type": "execute_result"
    },
    {
     "data": {
      "image/png": "[encoded data removed]",
      "text/plain": [
       "<Figure size 432x288 with 1 Axes>"
      ]
     },
     "metadata": {
      "needs_background": "light"
     },
     "output_type": "display_data"
    }
   ],
   "source": [
    "import numpy as np\n",
    "import matplotlib.pyplot as plt\n",
    "%matplotlib inline\n",
    "data = np.linspace(0,100,num=100)\n",
    "plt.plot(data)"
   ]
  },
  {
   "cell_type": "code",
   "execution_count": null,
   "metadata": {},
   "outputs": [
    {
     "data": {
      "text/plain": [
       "[0.0,\n",
       " 1.0101010101010102,\n",
       " 2.0202020202020203,\n",
       " 3.0303030303030303,\n",
       " 4.040404040404041,\n",
       " 5.050505050505051,\n",
       " 6.0606060606060606,\n",
       " 7.070707070707071,\n",
       " 8.080808080808081,\n",
       " 9.090909090909092,\n",
       " 10.101010101010102,\n",
       " 11.111111111111112,\n",
       " 12.121212121212121,\n",
       " 13.131313131313131,\n",
       " 14.141414141414142,\n",
       " 15.151515151515152,\n",
       " 16.161616161616163,\n",
       " 17.171717171717173,\n",
       " 18.181818181818183,\n",
       " 19.191919191919194,\n",
       " 20.202020202020204,\n",
       " 21.212121212121215,\n",
       " 22.222222222222225,\n",
       " 23.232323232323235,\n",
       " 24.242424242424242,\n",
       " 25.252525252525253,\n",
       " 26.262626262626263,\n",
       " 27.272727272727273,\n",
       " 28.282828282828284,\n",
       " 29.292929292929294,\n",
       " 30.303030303030305,\n",
       " 31.313131313131315,\n",
       " 32.323232323232325,\n",
       " 33.333333333333336,\n",
       " 34.343434343434346,\n",
       " 35.35353535353536,\n",
       " 36.36363636363637,\n",
       " 37.37373737373738,\n",
       " 38.38383838383839,\n",
       " 39.3939393939394,\n",
       " 40.40404040404041,\n",
       " 41.41414141414142,\n",
       " 42.42424242424243,\n",
       " 43.43434343434344,\n",
       " 44.44444444444445,\n",
       " 45.45454545454546,\n",
       " 46.46464646464647,\n",
       " 47.47474747474748,\n",
       " 48.484848484848484,\n",
       " 49.494949494949495,\n",
       " 50.505050505050505,\n",
       " 51.515151515151516,\n",
       " 52.525252525252526,\n",
       " 53.535353535353536,\n",
       " 54.54545454545455,\n",
       " 55.55555555555556,\n",
       " 56.56565656565657,\n",
       " 57.57575757575758,\n",
       " 58.58585858585859,\n",
       " 59.5959595959596,\n",
       " 60.60606060606061,\n",
       " 61.61616161616162,\n",
       " 62.62626262626263,\n",
       " 63.63636363636364,\n",
       " 64.64646464646465,\n",
       " 65.65656565656566,\n",
       " 66.66666666666667,\n",
       " 67.67676767676768,\n",
       " 68.68686868686869,\n",
       " 69.6969696969697,\n",
       " 70.70707070707071,\n",
       " 71.71717171717172,\n",
       " 72.72727272727273,\n",
       " 73.73737373737374,\n",
       " 74.74747474747475,\n",
       " 75.75757575757576,\n",
       " 76.76767676767678,\n",
       " 77.77777777777779,\n",
       " 78.7878787878788,\n",
       " 79.7979797979798,\n",
       " 80.80808080808082,\n",
       " 81.81818181818183,\n",
       " 82.82828282828284,\n",
       " 83.83838383838385,\n",
       " 84.84848484848486,\n",
       " 85.85858585858587,\n",
       " 86.86868686868688,\n",
       " 87.87878787878789,\n",
       " 88.8888888888889,\n",
       " 89.89898989898991,\n",
       " 90.90909090909092,\n",
       " 91.91919191919193,\n",
       " 92.92929292929294,\n",
       " 93.93939393939395,\n",
       " 94.94949494949496,\n",
       " 95.95959595959597,\n",
       " 96.96969696969697,\n",
       " 97.97979797979798,\n",
       " 98.98989898989899,\n",
       " 100.0]"
      ]
     },
     "execution_count": null,
     "metadata": {},
     "output_type": "execute_result"
    }
   ],
   "source": [
    "list(data)"
   ]
  },
  {
   "cell_type": "code",
   "execution_count": null,
   "metadata": {},
   "outputs": [
    {
     "data": {
      "image/svg+xml": [
       "<svg height=\"100\"><circle cx=\"50\" cy=\"50\" r=\"40\"/></svg>"
      ],
      "text/plain": [
       "<IPython.core.display.SVG object>"
      ]
     },
     "metadata": {},
     "output_type": "display_data"
    }
   ],
   "source": [
    "from IPython.display import display,SVG\n",
    "display(SVG('<svg height=\"100\"><circle cx=\"50\" cy=\"50\" r=\"40\"/></svg>'))"
   ]
  },
  {
   "cell_type": "code",
   "execution_count": null,
   "metadata": {},
   "outputs": [],
   "source": []
  },
  {
   "cell_type": "code",
   "execution_count": null,
   "metadata": {},
   "outputs": [],
   "source": []
  }
 ],
 "metadata": {
  "kernelspec": {
   "display_name": "Python 3",
   "language": "python",
   "name": "python3"
  }
 },
 "nbformat": 4,
 "nbformat_minor": 2
}
